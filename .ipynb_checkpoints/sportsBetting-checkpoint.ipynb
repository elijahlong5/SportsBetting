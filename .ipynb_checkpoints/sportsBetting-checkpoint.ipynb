{
 "cells": [
  {
   "cell_type": "code",
   "execution_count": 1,
   "metadata": {},
   "outputs": [],
   "source": [
    "# Program to analyze NFL trends with purpose of finding profitable sports betting strategies.\n",
    "\n",
    "# Import dependencies\n",
    "import pandas as pd\n",
    "\n",
    "# File paths\n",
    "fp_stadiums = 'data/nfl_stadiums.csv'\n",
    "fp_teams = 'data/nfl_teams.csv'\n",
    "fp_scores = 'data/spreadspoke_scores.csv'\n",
    "\n",
    "# Read in files\n",
    "f_stadiums = pd.read_csv(fp_stadiums ,encoding=\"utf-8\")\n",
    "f_teams = pd.read_csv(fp_teams, encoding=\"utf-8\")\n",
    "f_scores = pd.read_csv(fp_scores, encoding=\"utf-8\")\n"
   ]
  },
  {
   "cell_type": "code",
   "execution_count": null,
   "metadata": {},
   "outputs": [],
   "source": []
  }
 ],
 "metadata": {
  "kernelspec": {
   "display_name": "Python 3",
   "language": "python",
   "name": "python3"
  },
  "language_info": {
   "codemirror_mode": {
    "name": "ipython",
    "version": 3
   },
   "file_extension": ".py",
   "mimetype": "text/x-python",
   "name": "python",
   "nbconvert_exporter": "python",
   "pygments_lexer": "ipython3",
   "version": "3.7.6"
  }
 },
 "nbformat": 4,
 "nbformat_minor": 4
}
